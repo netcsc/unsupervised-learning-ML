{
 "cells": [
  {
   "cell_type": "code",
   "execution_count": 1,
   "metadata": {},
   "outputs": [],
   "source": [
    "import numpy as np \n",
    "import pandas as pd\n",
    "from sklearn.model_selection import train_test_split, learning_curve\n",
    "from sklearn.preprocessing import StandardScaler, normalize\n",
    "from timeit import default_timer as timer\n",
    "from collections import Counter\n",
    "import matplotlib.pyplot as plt\n",
    "import itertools\n",
    "\n",
    "def load_data(filename):\n",
    "    df = pd.read_csv(\"./data/\" + filename)\n",
    "    print(df.shape)\n",
    "    if filename == \"falldeteciton.csv\":   \n",
    "        X = df.iloc[:,1:]\n",
    "        y = df.iloc[:,0] \n",
    "        print(sorted(df['ACTIVITY'].unique()))\n",
    "    else:\n",
    "        X = df.iloc[:,:-1]\n",
    "        y = df.iloc[:,-1]\n",
    "        print(sorted(df['target_class'].unique()))\n",
    "    return X, y\n",
    "\n",
    "def split_data(X, y, test_size):\n",
    "    X_train, X_test, y_train, y_test = train_test_split(X, y, random_state=10, test_size=test_size)\n",
    "    return X_train, X_test, y_train, y_test\n",
    "\n",
    "def normalize_data(X_train, X_test):\n",
    "    sc = StandardScaler()\n",
    "    X_train_scale = sc.fit_transform(X_train)\n",
    "    X_test_scale = sc.transform(X_test)\n",
    "    return X_train_scale, X_test_scale\n",
    "\n",
    "#https://scikit-learn.org/stable/auto_examples/model_selection/plot_learning_curve.html#sphx-glr-auto-examples-model-selection-plot-learning-curve-py\n",
    "def plot_learning_curve(estimator, title, X, y, ylim=None, cv=None,\n",
    "                        n_jobs=None, train_sizes=np.linspace(.1, 1.0, 5)):\n",
    "    \"\"\"\n",
    "    Generate a simple plot of the test and training learning curve.\n",
    "\n",
    "    Parameters\n",
    "    ----------\n",
    "    estimator : object type that implements the \"fit\" and \"predict\" methods\n",
    "        An object of that type which is cloned for each validation.\n",
    "\n",
    "    title : string\n",
    "        Title for the chart.\n",
    "\n",
    "    X : array-like, shape (n_samples, n_features)\n",
    "        Training vector, where n_samples is the number of samples and\n",
    "        n_features is the number of features.\n",
    "\n",
    "    y : array-like, shape (n_samples) or (n_samples, n_features), optional\n",
    "        Target relative to X for classification or regression;\n",
    "        None for unsupervised learning.\n",
    "\n",
    "    ylim : tuple, shape (ymin, ymax), optional\n",
    "        Defines minimum and maximum yvalues plotted.\n",
    "\n",
    "    cv : int, cross-validation generator or an iterable, optional\n",
    "        Determines the cross-validation splitting strategy.\n",
    "        Possible inputs for cv are:\n",
    "          - None, to use the default 3-fold cross-validation,\n",
    "          - integer, to specify the number of folds.\n",
    "          - :term:`CV splitter`,\n",
    "          - An iterable yielding (train, test) splits as arrays of indices.\n",
    "\n",
    "        For integer/None inputs, if ``y`` is binary or multiclass,\n",
    "        :class:`StratifiedKFold` used. If the estimator is not a classifier\n",
    "        or if ``y`` is neither binary nor multiclass, :class:`KFold` is used.\n",
    "\n",
    "        Refer :ref:`User Guide <cross_validation>` for the various\n",
    "        cross-validators that can be used here.\n",
    "\n",
    "    n_jobs : int or None, optional (default=None)\n",
    "        Number of jobs to run in parallel.\n",
    "        ``None`` means 1 unless in a :obj:`joblib.parallel_backend` context.\n",
    "        ``-1`` means using all processors. See :term:`Glossary <n_jobs>`\n",
    "        for more details.\n",
    "\n",
    "    train_sizes : array-like, shape (n_ticks,), dtype float or int\n",
    "        Relative or absolute numbers of training examples that will be used to\n",
    "        generate the learning curve. If the dtype is float, it is regarded as a\n",
    "        fraction of the maximum size of the training set (that is determined\n",
    "        by the selected validation method), i.e. it has to be within (0, 1].\n",
    "        Otherwise it is interpreted as absolute sizes of the training sets.\n",
    "        Note that for classification the number of samples usually have to\n",
    "        be big enough to contain at least one sample from each class.\n",
    "        (default: np.linspace(0.1, 1.0, 5))\n",
    "    \"\"\"\n",
    "    plt.figure()\n",
    "    plt.title(title)\n",
    "    if ylim is not None:\n",
    "        plt.ylim(*ylim)\n",
    "    plt.xlabel(\"Training examples\")\n",
    "    plt.ylabel(\"Score\")\n",
    "    train_sizes, train_scores, test_scores = learning_curve(\n",
    "        estimator, X, y, cv=cv, n_jobs=n_jobs, train_sizes=train_sizes)\n",
    "    train_scores_mean = np.mean(train_scores, axis=1)\n",
    "    train_scores_std = np.std(train_scores, axis=1)\n",
    "    test_scores_mean = np.mean(test_scores, axis=1)\n",
    "    test_scores_std = np.std(test_scores, axis=1)\n",
    "    plt.grid()\n",
    "\n",
    "    plt.fill_between(train_sizes, train_scores_mean - train_scores_std,\n",
    "                     train_scores_mean + train_scores_std, alpha=0.1,\n",
    "                     color=\"r\")\n",
    "    plt.fill_between(train_sizes, test_scores_mean - test_scores_std,\n",
    "                     test_scores_mean + test_scores_std, alpha=0.1, color=\"g\")\n",
    "    plt.plot(train_sizes, train_scores_mean, 'o-', color=\"r\",\n",
    "             label=\"Training score\")\n",
    "    plt.plot(train_sizes, test_scores_mean, 'o-', color=\"g\",\n",
    "             label=\"Cross-validation score\")\n",
    "\n",
    "    plt.legend(loc=\"best\")\n",
    "    return plt\n",
    "\n",
    "def plot_confusion_matrix(cm, classes, normalize=False, title='Confusion Matrix', cmap=plt.cm.Blues):\n",
    "\n",
    "    plt.imshow(cm, interpolation='nearest', cmap=cmap)\n",
    "    plt.title(title)\n",
    "    plt.colorbar()\n",
    "    tick_marks = np.arange(len(classes))\n",
    "    plt.xticks(tick_marks, classes)\n",
    "    plt.yticks(tick_marks, classes)\n",
    "\n",
    "    fmt = '.2f' if normalize else 'd'\n",
    "    thresh = cm.max() / 2.\n",
    "    for i, j in itertools.product(range(2), range(2)):\n",
    "        plt.text(j, i, format(cm[i, j], fmt),\n",
    "                 horizontalalignment=\"center\",\n",
    "                 color=\"white\" if cm[i, j] > thresh else \"black\")\n",
    "\n",
    "    plt.tight_layout()\n",
    "    plt.ylabel('True Label')\n",
    "    plt.xlabel('Predicted Label')\n",
    "    \n",
    "def cluster_predictions(y, cluster_labels):\n",
    "    assert (y.shape == cluster_labels.shape)\n",
    "    pred = np.empty_like(y)\n",
    "    for label in set(cluster_labels):\n",
    "        mask = cluster_labels == label\n",
    "        sub = y[mask]\n",
    "        target = Counter(sub).most_common(1)[0][0]\n",
    "        pred[mask] = target   \n",
    "    return pred"
   ]
  },
  {
   "cell_type": "markdown",
   "metadata": {},
   "source": [
    "## Part 1: Clustering Algorithms "
   ]
  },
  {
   "cell_type": "code",
   "execution_count": 8,
   "metadata": {},
   "outputs": [],
   "source": [
    "from sklearn.cluster import KMeans\n",
    "from sklearn.metrics import silhouette_score as sil_score, f1_score\n",
    "from sklearn.metrics.cluster import completeness_score, homogeneity_score, v_measure_score\n",
    "from sklearn.metrics import roc_auc_score, accuracy_score, precision_score, recall_score, confusion_matrix\n",
    "\n",
    "import matplotlib.pyplot as plt\n",
    "\n",
    "def kmeans_cluster(X,y,title):\n",
    "\n",
    "    k_range = range(2, 16)\n",
    "    scores = []; sil_scores = []; f1_scores = []; train_times = []\n",
    "\n",
    "    for k in k_range:\n",
    "        #print(k)\n",
    "        start = timer()\n",
    "        km = KMeans(n_clusters=k,init='random',n_init=10,n_jobs=-1).fit(X)\n",
    "        end = timer()\n",
    "        train_times.append(end - start)\n",
    "        \n",
    "        try:\n",
    "            score = km.inertia_\n",
    "        except:\n",
    "            score = km.bic(X)\n",
    "            \n",
    "        scores.append(score)   \n",
    "        sil_scores.append(sil_score(X, km.labels_))\n",
    "        y_mode_vote = cluster_predictions(y, km.labels_)\n",
    "        f1_scores.append(f1_score(y, y_mode_vote, average='weighted'))\n",
    "        \n",
    "    # Plot scores\n",
    "    fig = plt.figure()\n",
    "    ax = fig.add_subplot(111)\n",
    "    ax.plot(k_range, scores)\n",
    "    plt.grid(True)\n",
    "    plt.xlabel('No. Clusters')\n",
    "    plt.ylabel('Inertia Score')\n",
    "    plt.title('Elbow Plot for KMeans: '+ title)\n",
    "    plt.show()\n",
    "    \n",
    "    # elbow curve for silhouette score\n",
    "    fig = plt.figure()\n",
    "    ax = fig.add_subplot(111)\n",
    "    ax.plot(k_range, sil_scores)\n",
    "    plt.grid(True)\n",
    "    plt.xlabel('No. Clusters')\n",
    "    plt.ylabel('Avg Silhouette Score')\n",
    "    plt.title('Elbow Plot for KMeans: '+ title)\n",
    "    plt.show()\n",
    "   \n",
    "    # plot f1 scores\n",
    "    fig = plt.figure()\n",
    "    ax = fig.add_subplot(111)\n",
    "    ax.plot(k_range, f1_scores)\n",
    "    plt.grid(True)\n",
    "    plt.xlabel('No. Clusters')\n",
    "    plt.ylabel('F1 Score')\n",
    "    plt.title('F1 Scores KMeans: '+ title)\n",
    "    plt.show()\n",
    "\n",
    "    # plot model training time\n",
    "    fig = plt.figure()\n",
    "    ax = fig.add_subplot(111)\n",
    "    ax.plot(k_range, train_times)\n",
    "    plt.grid(True)\n",
    "    plt.xlabel('No. Clusters')\n",
    "    plt.ylabel('Training Time (s)')\n",
    "    plt.title('KMeans Training Time: '+ title)\n",
    "    plt.show()\n",
    "    \n",
    "def kmeans_evaluate(X, y, n_comp):\n",
    "    km = KMeans(n_clusters=n_comp, init='random', n_init=10, n_jobs=-1)\n",
    "    start = timer()\n",
    "    km.fit(X, y)\n",
    "    end = timer()\n",
    "    train_time = end - start\n",
    "    #labels = km.fit_predict(X)\n",
    "    \n",
    "    print(\"No. of Components: {}\".format(n_comp))\n",
    "    print(\"Homogeneity: {0:.3f}\".format(homogeneity_score(y, km.labels_)))\n",
    "    print(\"Completeness: {0:.3f}\".format(completeness_score(y, km.labels_)))\n",
    "    print(\"V-measure: {0:.3f}\".format(v_measure_score(y, km.labels_)))\n",
    "    \n",
    "    y_mode_vote = cluster_predictions(y, km.labels_)\n",
    "    accuracy = accuracy_score(y, y_mode_vote)\n",
    "    precision = precision_score(y, y_mode_vote, average=\"weighted\")\n",
    "    recall = recall_score(y, y_mode_vote, average=\"weighted\")\n",
    "    cm = confusion_matrix(y, y_mode_vote)\n",
    "\n",
    "    print(\"Model Evaluation Metrics Using Mode Cluster Vote\")\n",
    "    print(\"*****************************************************\")\n",
    "    print(\"Model Training Time (s):   \"+\"{:.2f}\".format(train_time))\n",
    "    print(\"No. Iterations to Converge: {}\".format(km.n_iter_))\n",
    "    print(\"Accuracy:  \"+\"{:.2f}\".format(accuracy))\n",
    "    print(\"Precision: \"+\"{:.2f}\".format(precision)+\"     Recall:    \"+\"{:.2f}\".format(recall))\n",
    "    print(\"*****************************************************\")\n",
    "    plt.figure()\n",
    "    plot_confusion_matrix(cm, classes=[\"0\",\"1\"], title='Confusion Matrix')\n",
    "    plt.show()"
   ]
  },
  {
   "cell_type": "code",
   "execution_count": 9,
   "metadata": {},
   "outputs": [
    {
     "name": "stdout",
     "output_type": "stream",
     "text": [
      "(17898, 9)\n",
      "[0, 1]\n",
      "No. of Components: 3\n",
      "Homogeneity: 0.366\n",
      "Completeness: 0.115\n",
      "V-measure: 0.175\n",
      "Model Evaluation Metrics Using Mode Cluster Vote\n",
      "*****************************************************\n",
      "Model Training Time (s):   0.83\n",
      "No. Iterations to Converge: 15\n",
      "Accuracy:  0.92\n",
      "Precision: 0.93     Recall:    0.92\n",
      "*****************************************************\n"
     ]
    },
    {
     "data": {
      "image/png": "[encoded data removed]",
      "text/plain": [
       "<Figure size 432x288 with 2 Axes>"
      ]
     },
     "metadata": {
      "needs_background": "light"
     },
     "output_type": "display_data"
    },
    {
     "name": "stdout",
     "output_type": "stream",
     "text": [
      "No. of Components: 4\n",
      "Homogeneity: 0.366\n",
      "Completeness: 0.086\n",
      "V-measure: 0.140\n",
      "Model Evaluation Metrics Using Mode Cluster Vote\n",
      "*****************************************************\n",
      "Model Training Time (s):   0.90\n",
      "No. Iterations to Converge: 11\n",
      "Accuracy:  0.93\n",
      "Precision: 0.93     Recall:    0.93\n",
      "*****************************************************\n"
     ]
    },
    {
     "data": {
      "image/png": "[encoded data removed]",
      "text/plain": [
       "<Figure size 432x288 with 2 Axes>"
      ]
     },
     "metadata": {
      "needs_background": "light"
     },
     "output_type": "display_data"
    }
   ],
   "source": [
    "X, y = load_data(\"pulsar_stars.csv\")\n",
    "X = normalize(X)\n",
    "#kmeans_cluster(X,y,'Pulsar Stars')\n",
    "kmeans_evaluate(X,y,3)\n",
    "kmeans_evaluate(X,y,4)"
   ]
  },
  {
   "cell_type": "code",
   "execution_count": 10,
   "metadata": {},
   "outputs": [
    {
     "name": "stdout",
     "output_type": "stream",
     "text": [
      "(16382, 7)\n",
      "[0, 1, 2, 3, 4, 5]\n",
      "No. of Components: 3\n",
      "Homogeneity: 0.031\n",
      "Completeness: 0.053\n",
      "V-measure: 0.039\n",
      "Model Evaluation Metrics Using Mode Cluster Vote\n",
      "*****************************************************\n",
      "Model Training Time (s):   0.85\n",
      "No. Iterations to Converge: 14\n",
      "Accuracy:  0.31\n",
      "Precision: 0.14     Recall:    0.31\n",
      "*****************************************************\n"
     ]
    },
    {
     "name": "stderr",
     "output_type": "stream",
     "text": [
      "/Users/shi/anaconda3/envs/ml-test/lib/python3.7/site-packages/sklearn/metrics/classification.py:1437: UndefinedMetricWarning: Precision is ill-defined and being set to 0.0 in labels with no predicted samples.\n",
      "  'precision', 'predicted', average, warn_for)\n"
     ]
    },
    {
     "data": {
      "image/png": "[encoded data removed]",
      "text/plain": [
       "<Figure size 432x288 with 2 Axes>"
      ]
     },
     "metadata": {
      "needs_background": "light"
     },
     "output_type": "display_data"
    },
    {
     "name": "stdout",
     "output_type": "stream",
     "text": [
      "No. of Components: 5\n",
      "Homogeneity: 0.041\n",
      "Completeness: 0.046\n",
      "V-measure: 0.043\n",
      "Model Evaluation Metrics Using Mode Cluster Vote\n",
      "*****************************************************\n",
      "Model Training Time (s):   0.95\n",
      "No. Iterations to Converge: 43\n",
      "Accuracy:  0.31\n",
      "Precision: 0.21     Recall:    0.31\n",
      "*****************************************************\n"
     ]
    },
    {
     "name": "stderr",
     "output_type": "stream",
     "text": [
      "/Users/shi/anaconda3/envs/ml-test/lib/python3.7/site-packages/sklearn/metrics/classification.py:1437: UndefinedMetricWarning: Precision is ill-defined and being set to 0.0 in labels with no predicted samples.\n",
      "  'precision', 'predicted', average, warn_for)\n"
     ]
    },
    {
     "data": {
      "image/png": "[encoded data removed]",
      "text/plain": [
       "<Figure size 432x288 with 2 Axes>"
      ]
     },
     "metadata": {
      "needs_background": "light"
     },
     "output_type": "display_data"
    }
   ],
   "source": [
    "X, y = load_data(\"falldeteciton.csv\")\n",
    "X = normalize(X)\n",
    "#kmeans_cluster(X,y,'Fall Detection')\n",
    "kmeans_evaluate(X,y,3)\n",
    "kmeans_evaluate(X,y,5)"
   ]
  },
  {
   "cell_type": "code",
   "execution_count": null,
   "metadata": {},
   "outputs": [],
   "source": []
  }
 ],
 "metadata": {
  "file_extension": ".py",
  "kernelspec": {
   "display_name": "Python 3",
   "language": "python",
   "name": "python3"
  },
  "language_info": {
   "codemirror_mode": {
    "name": "ipython",
    "version": 3
   },
   "file_extension": ".py",
   "mimetype": "text/x-python",
   "name": "python",
   "nbconvert_exporter": "python",
   "pygments_lexer": "ipython3",
   "version": "3.7.3"
  },
  "mimetype": "text/x-python",
  "name": "python",
  "npconvert_exporter": "python",
  "pygments_lexer": "ipython3",
  "version": 3
 },
 "nbformat": 4,
 "nbformat_minor": 2
}
